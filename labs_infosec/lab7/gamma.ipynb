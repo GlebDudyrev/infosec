{
 "cells": [
  {
   "cell_type": "code",
   "execution_count": 183,
   "metadata": {},
   "outputs": [],
   "source": [
    "#Импорт библиотек\n",
    "import numpy as np"
   ]
  },
  {
   "cell_type": "markdown",
   "metadata": {},
   "source": [
    "Для начала нам необходимо реализовать функцию, которая будет генерировать секретный ключ."
   ]
  },
  {
   "cell_type": "code",
   "execution_count": 184,
   "metadata": {},
   "outputs": [
    {
     "name": "stdout",
     "output_type": "stream",
     "text": [
      "Сгенерированный ключ: 1011001101\n"
     ]
    }
   ],
   "source": [
    "def generate_key(key_len: int) -> list:\n",
    "    \"\"\"\n",
    "        Функция генерирует пвсевдослучайную последовательность, \n",
    "        которая будет использоваться в качестве ключа для шифрования.\n",
    "    \"\"\"\n",
    "    key = [] #Объект, который будет содержать итоговую последовательность\n",
    "    for i in range(key_len):\n",
    "        #Генерируем последовательность\n",
    "        key.append(np.random.randint(0, 2))\n",
    "    return key\n",
    "\n",
    "#Examples\n",
    "#Сгенерируем секретный ключ длиной 10\n",
    "key = ''.join([str(x) for x in generate_key(10)])\n",
    "print('Сгенерированный ключ: {}'.format(key))"
   ]
  },
  {
   "cell_type": "markdown",
   "metadata": {},
   "source": [
    "Напишем функцию шифрования открытого текста в шифротекст."
   ]
  },
  {
   "cell_type": "code",
   "execution_count": 185,
   "metadata": {},
   "outputs": [
    {
     "name": "stdout",
     "output_type": "stream",
     "text": [
      "Открытый текст: Happy New Year, my friends!\n",
      "Серкетный ключ: 101100111110010010010100111111011001110101101101010001100100011010101110111000000001100100000100100001001111110100110011110000010111011000010110110000010010101010001011111010000010100101001100101110000000110101111100\n",
      "Шифротекст: ûää#ÙÀ@aå\u001fá\u001boáLùL\"Ü~]\n"
     ]
    }
   ],
   "source": [
    "def encrypt(open_text: str, key: list = None) -> str:\n",
    "    \"\"\"\n",
    "        Функция шифрует данные в режиме однократного гаммирования.\n",
    "    \"\"\"\n",
    "    #Из открытого текста получаем бинарную последовательность\n",
    "    open_text_bin = ''.join(format(ord(x), '08b') for x in open_text)\n",
    "    #Если ключ не передается, то сгенерируем его\n",
    "    if not key:\n",
    "        key_len = len(open_text_bin)\n",
    "        key = generate_key(key_len)\n",
    "    #Получаем последовательность бит шифротекста, применяя последовательно XOR к биту из открытого текста и  соответсвующему биту из  секретного ключа\n",
    "    ciphertext_bin = []\n",
    "    for idx, bit in enumerate(open_text_bin):\n",
    "        ciphertext_bin.append(int(bit) ^ key[idx])\n",
    "    ciphertext_bin = ''.join([str(x) for x in ciphertext_bin])\n",
    "    #Преобразуем последовательность бит в текст\n",
    "    ciphertext = ''.join(chr(int(ciphertext_bin[(i * 8):(i * 8 + 8)],2)) for i in range(len(ciphertext_bin) // 8))\n",
    "    return ciphertext, key\n",
    "\n",
    "#Examples\n",
    "open_text = 'Happy New Year, my friends!'\n",
    "print(f'Открытый текст: {open_text}')\n",
    "cipher_text, key = encrypt(open_text)\n",
    "print('Серкетный ключ: {}'.format(''.join([str(x) for x in key])))\n",
    "print(f'Шифротекст: {cipher_text}')\n"
   ]
  },
  {
   "cell_type": "markdown",
   "metadata": {},
   "source": [
    "Теперь реализуем функцию дешифрования."
   ]
  },
  {
   "cell_type": "code",
   "execution_count": 186,
   "metadata": {},
   "outputs": [
    {
     "name": "stdout",
     "output_type": "stream",
     "text": [
      "Шифротекст: ûää#ÙÀ@aå\u001fá\u001boáLùL\"Ü~]\n",
      "Серкетный ключ: 101100111110010010010100111111011001110101101101010001100100011010101110111000000001100100000100100001001111110100110011110000010111011000010110110000010010101010001011111010000010100101001100101110000000110101111100\n",
      "Текст после дешифровки: Happy New Year, my friends!\n"
     ]
    }
   ],
   "source": [
    "def decrypt(cipher_text: str, key) -> str:\n",
    "    \"\"\"\n",
    "        Функция, которая производит дешифрование\n",
    "    \"\"\"\n",
    "    if not key: #Если ключ не передали, то завершаем работу программы\n",
    "        return 'You should enter the secret key.'\n",
    "    #Из зашифрованного текста получаем бинарную последовательность\n",
    "    cipher_text_bin = ''.join(format(ord(x), '08b') for x in cipher_text)\n",
    "    #Получаем последовательность бит открытого текста, применяя последовательно XOR к биту из шифротекста и соответсвующему биту из секретного ключа\n",
    "    open_text_bin = []\n",
    "    for idx, bit in enumerate(cipher_text_bin):\n",
    "        open_text_bin.append(int(bit) ^ key[idx])\n",
    "    open_text_bin = ''.join([str(x) for x in open_text_bin])\n",
    "    #Преобразуем последовательность бит в текст\n",
    "    open_text = ''.join(chr(int(open_text_bin[(i * 8):(i * 8 + 8)],2)) for i in range(len(open_text_bin) // 8))\n",
    "    return open_text, key\n",
    "\n",
    "#Examples\n",
    "print(f'Шифротекст: {cipher_text}')\n",
    "res_text, key = decrypt(cipher_text, key)\n",
    "print('Серкетный ключ: {}'.format(''.join([str(x) for x in key])))\n",
    "print(f'Текст после дешифровки: {res_text}')"
   ]
  },
  {
   "cell_type": "markdown",
   "metadata": {},
   "source": [
    "Реализуем функцию, которая сможет подобрать ключ, с помощью которого можно получить из известного открытого текста известный шифротекст при однократном гаммировании."
   ]
  },
  {
   "cell_type": "code",
   "execution_count": 187,
   "metadata": {},
   "outputs": [
    {
     "name": "stdout",
     "output_type": "stream",
     "text": [
      "Полученный серкетный ключ: 101100111110010010010100111111011001110101101101010001100100011010101110111000000001100100000100100001001111110100110011110000010111011000010110110000010010101010001011111010000010100101001100101110000000110101111100\n",
      "Открытый текст: Happy New Year, my friends!\n",
      "Шифротекст: ûää#ÙÀ@aå\u001fá\u001boáLùL\"Ü~]\n",
      "Полученный шифротекст: ûää#ÙÀ@aå\u001fá\u001boáLùL\"Ü~]\n"
     ]
    }
   ],
   "source": [
    "def key_find(open_text: str, cipher_text: str) -> list:\n",
    "    #Приводим открытый и шифро тексты к бинарному виду\n",
    "    cipher_text_bin = ''.join(format(ord(x), '08b') for x in cipher_text)\n",
    "    open_text_bin = ''.join(format(ord(x), '08b') for x in open_text)\n",
    "    #Подбираем секретный ключ применяя XOR операцию к последовательностям битов открытого и шифро текстов\n",
    "    key = []\n",
    "    for idx, open_bit in enumerate(open_text_bin):\n",
    "        key.append(int(cipher_text_bin[idx]) ^ int(open_bit))\n",
    "    \n",
    "    res_cipher_text, key = encrypt(open_text, key)\n",
    "    assert res_cipher_text == cipher_text    \n",
    "    #Возвращаем получившийся текст\n",
    "    return key\n",
    "\n",
    "#Examples\n",
    "key = key_find(open_text, cipher_text)\n",
    "print('Полученный серкетный ключ: {}'.format(''.join([str(x) for x in key])))\n",
    "print(f'Открытый текст: {open_text}')\n",
    "print(f'Шифротекст: {cipher_text}')\n",
    "#Применяем полученный ключ к открытому тексту, должны получить такой же шифротекст\n",
    "cipher_text, key = encrypt(open_text, key)\n",
    "print(f'Полученный шифротекст: {cipher_text}')"
   ]
  }
 ],
 "metadata": {
  "kernelspec": {
   "display_name": "Python 3",
   "language": "python",
   "name": "python3"
  },
  "language_info": {
   "codemirror_mode": {
    "name": "ipython",
    "version": 3
   },
   "file_extension": ".py",
   "mimetype": "text/x-python",
   "name": "python",
   "nbconvert_exporter": "python",
   "pygments_lexer": "ipython3",
   "version": "3.11.5"
  }
 },
 "nbformat": 4,
 "nbformat_minor": 2
}
